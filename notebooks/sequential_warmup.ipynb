{
 "cells": [
  {
   "cell_type": "code",
   "execution_count": 18,
   "metadata": {},
   "outputs": [],
   "source": [
    "import jax\n",
    "import numpyro\n",
    "import blackjax\n",
    "import numpy as np\n",
    "import numpyro.distributions as dist\n",
    "from numpyro.infer.util import initialize_model\n",
    "from numpyro.infer.reparam import TransformReparam"
   ]
  },
  {
   "cell_type": "code",
   "execution_count": 19,
   "metadata": {},
   "outputs": [],
   "source": [
    "def eight_schools(J, sigma, y=None):\n",
    "    mu = numpyro.sample('mu', dist.Normal(2, 5))\n",
    "    tau = numpyro.sample('tau', dist.HalfCauchy(5))\n",
    "    with numpyro.plate('J', J):\n",
    "        theta = numpyro.sample('theta', dist.Normal(mu, tau))\n",
    "        numpyro.sample('obs', dist.Normal(theta, sigma), obs=y)"
   ]
  },
  {
   "cell_type": "code",
   "execution_count": 20,
   "metadata": {},
   "outputs": [],
   "source": [
    "# Model initialization values\n",
    "J = 8\n",
    "y = np.array([28.0, 8.0, -3.0, 7.0, -1.0, 1.0, 18.0, 12.0])\n",
    "sigma = np.array([15.0, 10.0, 16.0, 11.0, 9.0, 11.0, 10.0, 18.0])"
   ]
  },
  {
   "cell_type": "code",
   "execution_count": 21,
   "metadata": {},
   "outputs": [],
   "source": [
    "rng_key = jax.random.PRNGKey(0)\n",
    "init_params, potential_fn_gen, *_ = initialize_model(\n",
    "    rng_key,\n",
    "    eight_schools,\n",
    "    model_args=(J, sigma, y),\n",
    "    dynamic_args=True,\n",
    ")"
   ]
  },
  {
   "cell_type": "code",
   "execution_count": 22,
   "metadata": {},
   "outputs": [],
   "source": [
    "logdensity_fn = lambda position: -potential_fn_gen(J, sigma, y)(position)\n",
    "initial_position = init_params.z"
   ]
  },
  {
   "cell_type": "code",
   "execution_count": 23,
   "metadata": {},
   "outputs": [],
   "source": [
    "num_warmup = 150\n",
    "\n",
    "adapt = blackjax.window_adaptation(\n",
    "    blackjax.nuts, logdensity_fn\n",
    ")"
   ]
  },
  {
   "cell_type": "code",
   "execution_count": 24,
   "metadata": {},
   "outputs": [],
   "source": [
    "(last_state, parameters), intermediate_states = adapt.run(rng_key, initial_position, num_warmup)"
   ]
  },
  {
   "cell_type": "code",
   "execution_count": 25,
   "metadata": {},
   "outputs": [
    {
     "data": {
      "text/plain": [
       "{'step_size': Array(0.2521476, dtype=float32),\n",
       " 'inverse_mass_matrix': Array([ 5.30525   ,  0.31019863, 10.508795  ,  7.5516353 ,  9.697434  ,\n",
       "        27.249842  , 10.198741  , 14.505366  , 38.56407   , 13.96518   ],      dtype=float32)}"
      ]
     },
     "execution_count": 25,
     "metadata": {},
     "output_type": "execute_result"
    }
   ],
   "source": [
    "parameters"
   ]
  },
  {
   "cell_type": "code",
   "execution_count": 26,
   "metadata": {},
   "outputs": [],
   "source": [
    "ibuffer_size = 75\n",
    "fbuffer_size = 0\n",
    "wsize = 0\n",
    "num_warmup = ibuffer_size + fbuffer_size + wsize  \n",
    "\n",
    "(last_state, parameters), intermediate_states = adapt.run(rng_key, initial_position, num_warmup, initial_buffer_size = ibuffer_size,\n",
    "    final_buffer_size = fbuffer_size,\n",
    "    first_window_size = wsize)"
   ]
  },
  {
   "cell_type": "code",
   "execution_count": 28,
   "metadata": {},
   "outputs": [],
   "source": [
    "ibuffer_size = 0\n",
    "fbuffer_size = 0\n",
    "wsize = 25\n",
    "num_warmup = ibuffer_size + fbuffer_size + wsize  \n",
    "\n",
    "(last_state, parameters), intermediate_states = adapt.run(rng_key, last_state[0], num_warmup, initial_step_size = parameters['step_size'] ,initial_buffer_size = ibuffer_size,\n",
    "    final_buffer_size = fbuffer_size,\n",
    "    first_window_size = wsize)"
   ]
  },
  {
   "cell_type": "code",
   "execution_count": 29,
   "metadata": {},
   "outputs": [
    {
     "data": {
      "text/plain": [
       "{'step_size': Array(1., dtype=float32),\n",
       " 'inverse_mass_matrix': Array([ 9.046988  ,  0.48291278, 63.356754  , 16.818571  , 10.634117  ,\n",
       "        37.218197  , 28.103865  , 15.139331  , 73.642914  , 21.785732  ],      dtype=float32)}"
      ]
     },
     "execution_count": 29,
     "metadata": {},
     "output_type": "execute_result"
    }
   ],
   "source": [
    "parameters"
   ]
  },
  {
   "cell_type": "code",
   "execution_count": 30,
   "metadata": {},
   "outputs": [],
   "source": [
    "ibuffer_size = 0\n",
    "fbuffer_size = 75\n",
    "wsize = 0\n",
    "num_warmup = ibuffer_size + fbuffer_size + wsize  \n",
    "\n",
    "(last_state, parameters), intermediate_states = adapt.run(rng_key, last_state[0], num_warmup, initial_buffer_size = ibuffer_size,\n",
    "    final_buffer_size = fbuffer_size,\n",
    "    first_window_size = wsize)"
   ]
  },
  {
   "cell_type": "code",
   "execution_count": 31,
   "metadata": {},
   "outputs": [
    {
     "data": {
      "text/plain": [
       "{'step_size': Array(0.21120399, dtype=float32),\n",
       " 'inverse_mass_matrix': Array([1., 1., 1., 1., 1., 1., 1., 1., 1., 1.], dtype=float32)}"
      ]
     },
     "execution_count": 31,
     "metadata": {},
     "output_type": "execute_result"
    }
   ],
   "source": [
    "parameters"
   ]
  },
  {
   "cell_type": "code",
   "execution_count": 32,
   "metadata": {},
   "outputs": [],
   "source": [
    "kernel = blackjax.nuts(logdensity_fn, **parameters).step"
   ]
  },
  {
   "cell_type": "code",
   "execution_count": 33,
   "metadata": {},
   "outputs": [],
   "source": [
    "def inference_loop(rng_key, kernel, initial_state, num_samples):\n",
    "    @jax.jit\n",
    "    def one_step(state, rng_key):\n",
    "        state, info = kernel(rng_key, state)\n",
    "        return state, (state, info)\n",
    "\n",
    "    keys = jax.random.split(rng_key, num_samples)\n",
    "    extra, (states, infos) = jax.lax.scan(one_step, initial_state, keys)\n",
    "\n",
    "    return states, (\n",
    "        infos.acceptance_rate,\n",
    "        infos.is_divergent,\n",
    "        infos.num_integration_steps,\n",
    "    )"
   ]
  },
  {
   "cell_type": "code",
   "execution_count": 34,
   "metadata": {},
   "outputs": [],
   "source": [
    "num_sample = 5\n",
    "\n",
    "states, infos = inference_loop(rng_key, kernel, last_state, num_sample)\n",
    "_ = states.position[\"mu\"].block_until_ready()"
   ]
  },
  {
   "cell_type": "code",
   "execution_count": 35,
   "metadata": {},
   "outputs": [
    {
     "data": {
      "text/plain": [
       "HMCState(position={'mu': Array([4.1346045, 5.239526 , 5.257296 , 5.8142715, 4.757877 ], dtype=float32), 'tau': Array([ 1.5930321 ,  0.91519094, -0.08110353,  0.84623045,  0.95862246],      dtype=float32), 'theta': Array([[ 7.0328045,  0.3239852,  5.8964787,  2.3316412,  5.940436 ,\n",
       "        12.440558 ,  5.015493 ,  2.185249 ],\n",
       "       [ 5.4980054,  8.767157 ,  2.8952746,  5.2418   ,  9.513682 ,\n",
       "         2.388644 ,  6.772124 ,  1.4895481],\n",
       "       [ 5.702556 ,  5.3514857,  4.4745126,  4.2809114,  3.8527822,\n",
       "         3.1236255,  6.121111 ,  5.3896837],\n",
       "       [ 2.8833528,  2.8261654,  8.288954 ,  5.171654 ,  3.7486272,\n",
       "         5.43755  ,  6.1528983,  8.864385 ],\n",
       "       [ 4.9101114,  1.6866566, 10.314992 ,  7.352324 ,  2.8150902,\n",
       "         5.3730884,  4.4259562,  8.040459 ]], dtype=float32)}, logdensity=Array([-56.719673, -53.676243, -46.485077, -51.895256, -53.775112],      dtype=float32), logdensity_grad={'mu': Array([ 0.24900192, -0.02534748, -4.5544415 , -0.7306458 ,  0.8975458 ],      dtype=float32), 'tau': Array([-3.5979872 ,  2.352312  ,  3.5922062 , -0.38411474,  1.70261   ],      dtype=float32), 'theta': Array([[-0.02660734,  0.23426917, -0.10757759,  0.11310559, -0.16032705,\n",
       "        -0.43787032,  0.09343422,  0.11086756],\n",
       "       [ 0.05856107, -0.5733354 ,  0.35287774,  0.01416593, -0.81516945,\n",
       "         0.44566914, -0.13347688,  0.6337573 ],\n",
       "       [-0.42457223, -0.08429164,  0.89143723,  1.1708014 ,  1.5919431 ,\n",
       "         2.4918673 , -0.897147  , -0.13529938],\n",
       "       [ 0.6511121 ,  0.60174716, -0.49960238,  0.13339429,  0.32158986,\n",
       "         0.03266764,  0.05614132, -0.55174434],\n",
       "       [ 0.08024152,  0.51463795, -0.86897117, -0.3843252 ,  0.238512  ,\n",
       "        -0.12658435,  0.18453658, -0.47035632]], dtype=float32)})"
      ]
     },
     "execution_count": 35,
     "metadata": {},
     "output_type": "execute_result"
    }
   ],
   "source": [
    "states"
   ]
  },
  {
   "cell_type": "markdown",
   "metadata": {},
   "source": [
    "HMCState(position={'mu': Array([9.922787 , 2.6043172, 3.7035708, 8.089965 , 7.3719726], dtype=float32), 'tau': Array([-2.1415424, -0.4907572,  1.4969707,  0.7235381,  0.4811546],      dtype=float32), 'theta_base': Array([[ 0.011798  , -0.6990618 ,  0.5800221 ,  0.6235273 , -0.0350373 ,\n",
    "        -0.06943975, -2.394491  , -0.13232218],\n",
    "       [ 0.23016587, -1.844681  ,  0.89817107, -0.6893593 , -1.3917323 ,\n",
    "         1.8075554 ,  2.0827086 ,  0.20634526],\n",
    "       [ 0.95044273,  1.6913677 , -0.5630975 ,  0.8642062 ,  1.5816722 ,\n",
    "        -1.4738693 ,  1.5239587 , -0.8587075 ],\n",
    "       [-1.0939564 , -0.8527685 , -1.012984  , -0.47866136, -2.1197004 ,\n",
    "         1.2409846 ,  0.27299595,  2.669759  ],\n",
    "       [-0.3839416 , -1.2815466 , -0.20384768,  0.45797092, -2.280699  ,\n",
    "         1.0681396 , -0.48478994,  1.9311254 ]], dtype=float32)}, logdensity=Array([-49.38864 , -50.07078 , -47.313896, -50.438282, -48.44399 ],      dtype=float32), logdensity_grad={'mu': Array([-0.5289164 ,  0.2025292 , -0.11358353, -0.29387444, -0.22782859],      dtype=float32), 'tau': Array([ 0.972792  ,  1.0703826 , -0.6049909 ,  0.6082729 ,  0.72445697],      dtype=float32), 'theta_base': Array([[-2.3605300e-03,  6.9689953e-01, -5.8598340e-01, -6.2643600e-01,\n",
    "         1.9202059e-02,  6.0784940e-02,  2.4043100e+00,  1.3308096e-01],\n",
    "       [-1.6145459e-01,  1.8846242e+00, -9.1288722e-01,  7.1373290e-01,\n",
    "         1.3709313e+00, -1.8212701e+00, -1.9962667e+00, -1.8883181e-01],\n",
    "       [-5.5228788e-01, -1.8370658e+00,  4.9000901e-01, -8.8506830e-01,\n",
    "        -2.2309687e+00,  1.6172142e+00, -1.1894215e+00,  1.0260315e+00],\n",
    "       [ 1.2970624e+00,  8.8716203e-01,  9.4048995e-01,  4.7690460e-01,\n",
    "         1.9995674e+00, -1.4053854e+00, -8.0283418e-02, -2.6799037e+00],\n",
    "       [ 5.3674161e-01,  1.3252552e+00,  1.4038040e-01, -4.7285253e-01,\n",
    "         2.1871793e+00, -1.1764501e+00,  6.6943574e-01, -1.9236170e+00]],      dtype=float32)})"
   ]
  },
  {
   "cell_type": "code",
   "execution_count": 36,
   "metadata": {},
   "outputs": [
    {
     "name": "stdout",
     "output_type": "stream",
     "text": [
      "\\Average acceptance rate: 0.88\n",
      "There were 0.00% divergent transitions\n"
     ]
    }
   ],
   "source": [
    "acceptance_rate = np.mean(infos[0])\n",
    "num_divergent = np.mean(infos[1])\n",
    "\n",
    "print(f\"\\Average acceptance rate: {acceptance_rate:.2f}\")\n",
    "print(f\"There were {100*num_divergent:.2f}% divergent transitions\")"
   ]
  }
 ],
 "metadata": {
  "kernelspec": {
   "display_name": "original",
   "language": "python",
   "name": "python3"
  },
  "language_info": {
   "codemirror_mode": {
    "name": "ipython",
    "version": 3
   },
   "file_extension": ".py",
   "mimetype": "text/x-python",
   "name": "python",
   "nbconvert_exporter": "python",
   "pygments_lexer": "ipython3",
   "version": "3.11.3"
  },
  "orig_nbformat": 4
 },
 "nbformat": 4,
 "nbformat_minor": 2
}
