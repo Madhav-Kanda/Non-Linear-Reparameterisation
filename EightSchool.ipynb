{
 "cells": [
  {
   "cell_type": "code",
   "execution_count": 1,
   "metadata": {},
   "outputs": [
    {
     "name": "stderr",
     "output_type": "stream",
     "text": [
      "/Users/madhav/anaconda3/envs/experiment-new/lib/python3.11/site-packages/tqdm/auto.py:21: TqdmWarning: IProgress not found. Please update jupyter and ipywidgets. See https://ipywidgets.readthedocs.io/en/stable/user_install.html\n",
      "  from .autonotebook import tqdm as notebook_tqdm\n"
     ]
    }
   ],
   "source": [
    "import jax\n",
    "import jax.numpy as jnp\n",
    "import numpyro\n",
    "import numpy as np\n",
    "import numpyro.distributions as dist"
   ]
  },
  {
   "cell_type": "code",
   "execution_count": 2,
   "metadata": {},
   "outputs": [],
   "source": [
    "J = 8\n",
    "y = np.array([28.0, 8.0, -3.0, 7.0, -1.0, 1.0, 18.0, 12.0])\n",
    "sigma = np.array([15.0, 10.0, 16.0, 11.0, 9.0, 11.0, 10.0, 18.0])"
   ]
  },
  {
   "cell_type": "code",
   "execution_count": 3,
   "metadata": {},
   "outputs": [],
   "source": [
    "def eight_schools():\n",
    "    mu = numpyro.sample('mu', dist.Normal(2, 5))\n",
    "    tau = numpyro.sample('tau', dist.HalfCauchy(5))\n",
    "    theta = numpyro.sample('theta', dist.Normal(jnp.full(J,mu), tau))\n",
    "    numpyro.sample('obs', dist.Normal(theta, sigma), obs=y)"
   ]
  },
  {
   "cell_type": "code",
   "execution_count": 4,
   "metadata": {},
   "outputs": [
    {
     "ename": "TypeError",
     "evalue": "Value <function window_adaptation.<locals>.logdensity_create.<locals>.<lambda> at 0x13fca7d80> with type <class 'function'> is not a valid JAX type",
     "output_type": "error",
     "traceback": [
      "\u001b[0;31m---------------------------------------------------------------------------\u001b[0m",
      "\u001b[0;31mTypeError\u001b[0m                                 Traceback (most recent call last)",
      "Cell \u001b[0;32mIn[4], line 8\u001b[0m\n\u001b[1;32m      3\u001b[0m num_warmup \u001b[39m=\u001b[39m \u001b[39m500\u001b[39m\n\u001b[1;32m      5\u001b[0m adapt \u001b[39m=\u001b[39m blackjax\u001b[39m.\u001b[39mwindow_adaptation(\n\u001b[1;32m      6\u001b[0m     blackjax\u001b[39m.\u001b[39mnuts, eight_schools\n\u001b[1;32m      7\u001b[0m )\n\u001b[0;32m----> 8\u001b[0m (last_state, parameters), intermediate_states,logdensity_fn  \u001b[39m=\u001b[39m adapt\u001b[39m.\u001b[39;49mrun(jax\u001b[39m.\u001b[39;49mrandom\u001b[39m.\u001b[39;49mPRNGKey(\u001b[39m0\u001b[39;49m), num_warmup)\n\u001b[1;32m      9\u001b[0m kernel \u001b[39m=\u001b[39m blackjax\u001b[39m.\u001b[39mnuts(logdensity_fn, \u001b[39m*\u001b[39m\u001b[39m*\u001b[39mparameters)\u001b[39m.\u001b[39mstep\n",
      "File \u001b[0;32m~/Desktop/Code/Expt-BlackJax/blackjax/blackjax/adaptation/window_adaptation.py:371\u001b[0m, in \u001b[0;36mwindow_adaptation.<locals>.run\u001b[0;34m(rng_key, num_steps)\u001b[0m\n\u001b[1;32m    369\u001b[0m window_size \u001b[39m=\u001b[39m jnp\u001b[39m.\u001b[39marray([(\u001b[39m75\u001b[39m,\u001b[39m0\u001b[39m),(\u001b[39m25\u001b[39m,\u001b[39m1\u001b[39m),(\u001b[39m50\u001b[39m,\u001b[39m1\u001b[39m),(\u001b[39m100\u001b[39m,\u001b[39m1\u001b[39m),(\u001b[39m200\u001b[39m,\u001b[39m1\u001b[39m),(\u001b[39m50\u001b[39m,\u001b[39m0\u001b[39m)])\n\u001b[1;32m    370\u001b[0m \u001b[39mfor\u001b[39;00m window \u001b[39min\u001b[39;00m window_size:\n\u001b[0;32m--> 371\u001b[0m     last_state, info \u001b[39m=\u001b[39m jax\u001b[39m.\u001b[39;49mlax\u001b[39m.\u001b[39;49mscan(\n\u001b[1;32m    372\u001b[0m         one_step_,\n\u001b[1;32m    373\u001b[0m         (init_state, init_adaptation_state, logdensity_fn),\n\u001b[1;32m    374\u001b[0m         (jnp\u001b[39m.\u001b[39;49marange(step, step\u001b[39m+\u001b[39;49mwindow[\u001b[39m0\u001b[39;49m]), keys[step:][:window[\u001b[39m0\u001b[39;49m]], schedule[step:][:window[\u001b[39m0\u001b[39;49m]]),\n\u001b[1;32m    375\u001b[0m     )\n\u001b[1;32m    376\u001b[0m     step\u001b[39m+\u001b[39m\u001b[39m=\u001b[39mwindow[\u001b[39m0\u001b[39m]\n\u001b[1;32m    378\u001b[0m     init_state \u001b[39m=\u001b[39m last_state[\u001b[39m0\u001b[39m]\n",
      "    \u001b[0;31m[... skipping hidden 5 frame]\u001b[0m\n",
      "File \u001b[0;32m~/anaconda3/envs/experiment-new/lib/python3.11/site-packages/jax/_src/core.py:1351\u001b[0m, in \u001b[0;36mconcrete_aval\u001b[0;34m(x)\u001b[0m\n\u001b[1;32m   1349\u001b[0m \u001b[39mif\u001b[39;00m \u001b[39mhasattr\u001b[39m(x, \u001b[39m'\u001b[39m\u001b[39m__jax_array__\u001b[39m\u001b[39m'\u001b[39m):\n\u001b[1;32m   1350\u001b[0m   \u001b[39mreturn\u001b[39;00m concrete_aval(x\u001b[39m.\u001b[39m__jax_array__())\n\u001b[0;32m-> 1351\u001b[0m \u001b[39mraise\u001b[39;00m \u001b[39mTypeError\u001b[39;00m(\u001b[39mf\u001b[39m\u001b[39m\"\u001b[39m\u001b[39mValue \u001b[39m\u001b[39m{\u001b[39;00m\u001b[39mrepr\u001b[39m(x)\u001b[39m}\u001b[39;00m\u001b[39m with type \u001b[39m\u001b[39m{\u001b[39;00m\u001b[39mtype\u001b[39m(x)\u001b[39m}\u001b[39;00m\u001b[39m is not a valid JAX \u001b[39m\u001b[39m\"\u001b[39m\n\u001b[1;32m   1352\u001b[0m                  \u001b[39m\"\u001b[39m\u001b[39mtype\u001b[39m\u001b[39m\"\u001b[39m)\n",
      "\u001b[0;31mTypeError\u001b[0m: Value <function window_adaptation.<locals>.logdensity_create.<locals>.<lambda> at 0x13fca7d80> with type <class 'function'> is not a valid JAX type"
     ]
    }
   ],
   "source": [
    "import blackjax\n",
    "\n",
    "num_warmup = 500\n",
    "\n",
    "adapt = blackjax.window_adaptation(\n",
    "    blackjax.nuts, eight_schools\n",
    ")\n",
    "(last_state, parameters), intermediate_states,logdensity_fn  = adapt.run(jax.random.PRNGKey(0), num_warmup)\n",
    "kernel = blackjax.nuts(logdensity_fn, **parameters).step"
   ]
  },
  {
   "cell_type": "code",
   "execution_count": null,
   "metadata": {},
   "outputs": [],
   "source": [
    "def inference_loop(rng_key, kernel, initial_state, num_samples):\n",
    "    @jax.jit\n",
    "    def one_step(state, rng_key):\n",
    "        state, info = kernel(rng_key, state)\n",
    "        return state, (state, info)\n",
    "\n",
    "    keys = jax.random.split(rng_key, num_samples)\n",
    "    _, (states, infos) = jax.lax.scan(one_step, initial_state, keys)\n",
    "\n",
    "    return states, (\n",
    "        infos.acceptance_rate,\n",
    "        infos.is_divergent,\n",
    "        infos.num_integration_steps,\n",
    "    )"
   ]
  },
  {
   "cell_type": "code",
   "execution_count": null,
   "metadata": {},
   "outputs": [],
   "source": [
    "num_sample = 1000\n",
    "\n",
    "states, infos = inference_loop(jax.random.PRNGKey(0), kernel, last_state, num_sample)\n",
    "_ = states.position[\"mu\"].block_until_ready()"
   ]
  },
  {
   "cell_type": "code",
   "execution_count": null,
   "metadata": {},
   "outputs": [
    {
     "name": "stdout",
     "output_type": "stream",
     "text": [
      "\\Average acceptance rate: 0.97\n",
      "There were 0.00% divergent transitions\n"
     ]
    }
   ],
   "source": [
    "acceptance_rate = np.mean(infos[0])\n",
    "num_divergent = np.mean(infos[1])\n",
    "\n",
    "print(f\"\\Average acceptance rate: {acceptance_rate:.2f}\")\n",
    "print(f\"There were {100*num_divergent:.2f}% divergent transitions\")"
   ]
  },
  {
   "cell_type": "code",
   "execution_count": null,
   "metadata": {},
   "outputs": [],
   "source": [
    "# \\Average acceptance rate: 0.87\n",
    "# There were 1.20% divergent transitions"
   ]
  }
 ],
 "metadata": {
  "kernelspec": {
   "display_name": "experiment-new",
   "language": "python",
   "name": "python3"
  },
  "language_info": {
   "codemirror_mode": {
    "name": "ipython",
    "version": 3
   },
   "file_extension": ".py",
   "mimetype": "text/x-python",
   "name": "python",
   "nbconvert_exporter": "python",
   "pygments_lexer": "ipython3",
   "version": "3.11.4"
  },
  "orig_nbformat": 4
 },
 "nbformat": 4,
 "nbformat_minor": 2
}
