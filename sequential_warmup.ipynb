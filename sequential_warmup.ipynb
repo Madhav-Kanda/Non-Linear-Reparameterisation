{
 "cells": [
  {
   "cell_type": "code",
   "execution_count": 1,
   "metadata": {},
   "outputs": [
    {
     "name": "stderr",
     "output_type": "stream",
     "text": [
      "/Users/madhav/anaconda3/envs/experiment/lib/python3.11/site-packages/tqdm/auto.py:21: TqdmWarning: IProgress not found. Please update jupyter and ipywidgets. See https://ipywidgets.readthedocs.io/en/stable/user_install.html\n",
      "  from .autonotebook import tqdm as notebook_tqdm\n",
      "/Users/madhav/anaconda3/envs/experiment/lib/python3.11/site-packages/fastprogress/fastprogress.py:107: UserWarning: Couldn't import ipywidgets properly, progress bar will use console behavior\n",
      "  warn(\"Couldn't import ipywidgets properly, progress bar will use console behavior\")\n"
     ]
    }
   ],
   "source": [
    "import jax\n",
    "import numpyro\n",
    "import blackjax\n",
    "import numpy as np\n",
    "import numpyro.distributions as dist\n",
    "from numpyro.infer.util import initialize_model\n",
    "from numpyro.infer.reparam import TransformReparam"
   ]
  },
  {
   "cell_type": "code",
   "execution_count": 2,
   "metadata": {},
   "outputs": [],
   "source": [
    "## Model\n",
    "def eight_schools_noncentered(J, sigma, y=None):\n",
    "    mu = numpyro.sample(\"mu\", dist.Normal(0, 5))\n",
    "    tau = numpyro.sample(\"tau\", dist.HalfCauchy(5))\n",
    "    with numpyro.plate(\"J\", J):\n",
    "        with numpyro.handlers.reparam(config={\"theta\": TransformReparam()}):\n",
    "            theta = numpyro.sample(\n",
    "                \"theta\",\n",
    "                dist.TransformedDistribution(\n",
    "                    dist.Normal(0.0, 1.0), dist.transforms.AffineTransform(mu, tau)\n",
    "                ),\n",
    "            )\n",
    "        numpyro.sample(\"obs\", dist.Normal(theta, sigma), obs=y)"
   ]
  },
  {
   "cell_type": "code",
   "execution_count": 3,
   "metadata": {},
   "outputs": [],
   "source": [
    "# Model initialization values\n",
    "J = 8\n",
    "y = np.array([28.0, 8.0, -3.0, 7.0, -1.0, 1.0, 18.0, 12.0])\n",
    "sigma = np.array([15.0, 10.0, 16.0, 11.0, 9.0, 11.0, 10.0, 18.0])"
   ]
  },
  {
   "cell_type": "code",
   "execution_count": 4,
   "metadata": {},
   "outputs": [],
   "source": [
    "rng_key = jax.random.PRNGKey(0)\n",
    "init_params, potential_fn_gen, *_ = initialize_model(\n",
    "    rng_key,\n",
    "    eight_schools_noncentered,\n",
    "    model_args=(J, sigma, y),\n",
    "    dynamic_args=True,\n",
    ")"
   ]
  },
  {
   "cell_type": "code",
   "execution_count": 5,
   "metadata": {},
   "outputs": [],
   "source": [
    "logdensity_fn = lambda position: -potential_fn_gen(J, sigma, y)(position)\n",
    "initial_position = init_params.z"
   ]
  },
  {
   "cell_type": "code",
   "execution_count": 6,
   "metadata": {},
   "outputs": [],
   "source": [
    "num_warmup = 150\n",
    "\n",
    "adapt = blackjax.window_adaptation(\n",
    "    blackjax.nuts, logdensity_fn, target_acceptance_rate=0.8\n",
    ")"
   ]
  },
  {
   "cell_type": "code",
   "execution_count": 7,
   "metadata": {},
   "outputs": [],
   "source": [
    "ibuffer_size = 75\n",
    "fbuffer_size = 0\n",
    "wsize = 0\n",
    "num_warmup = ibuffer_size + fbuffer_size + wsize  \n",
    "\n",
    "(last_state, parameters), intermediate_states = adapt.run(rng_key, initial_position, num_warmup, initial_buffer_size = ibuffer_size,\n",
    "    final_buffer_size = fbuffer_size,\n",
    "    first_window_size = wsize)"
   ]
  },
  {
   "cell_type": "code",
   "execution_count": 8,
   "metadata": {},
   "outputs": [
    {
     "data": {
      "text/plain": [
       "{'step_size': Array(0.4991284, dtype=float32, weak_type=True),\n",
       " 'inverse_mass_matrix': Array([1., 1., 1., 1., 1., 1., 1., 1., 1., 1.], dtype=float32)}"
      ]
     },
     "execution_count": 8,
     "metadata": {},
     "output_type": "execute_result"
    }
   ],
   "source": [
    "parameters"
   ]
  },
  {
   "cell_type": "code",
   "execution_count": 9,
   "metadata": {},
   "outputs": [
    {
     "name": "stdout",
     "output_type": "stream",
     "text": [
      "Entered the right direction!\n"
     ]
    }
   ],
   "source": [
    "ibuffer_size = 0\n",
    "fbuffer_size = 0\n",
    "wsize = 25\n",
    "num_warmup = ibuffer_size + fbuffer_size + wsize  \n",
    "\n",
    "(last_state, parameters), intermediate_states = adapt.run(rng_key, last_state[0], num_warmup, initial_step_size = parameters['step_size'] ,initial_buffer_size = ibuffer_size,\n",
    "    final_buffer_size = fbuffer_size,\n",
    "    first_window_size = wsize)"
   ]
  },
  {
   "cell_type": "code",
   "execution_count": 10,
   "metadata": {},
   "outputs": [
    {
     "data": {
      "text/plain": [
       "{'step_size': Array(1., dtype=float32, weak_type=True),\n",
       " 'inverse_mass_matrix': Array([21.636917  ,  0.82218933,  0.9235706 ,  0.9132942 ,  0.5829264 ,\n",
       "         1.2119806 ,  0.8255245 ,  0.96468395,  0.7741471 ,  0.7101809 ],      dtype=float32)}"
      ]
     },
     "execution_count": 10,
     "metadata": {},
     "output_type": "execute_result"
    }
   ],
   "source": [
    "parameters"
   ]
  },
  {
   "cell_type": "code",
   "execution_count": 11,
   "metadata": {},
   "outputs": [],
   "source": [
    "ibuffer_size = 0\n",
    "fbuffer_size = 75\n",
    "wsize = 0\n",
    "num_warmup = ibuffer_size + fbuffer_size + wsize  \n",
    "\n",
    "(last_state, parameters), intermediate_states = adapt.run(rng_key, last_state[0], num_warmup, initial_buffer_size = ibuffer_size,\n",
    "    final_buffer_size = fbuffer_size,\n",
    "    first_window_size = wsize)"
   ]
  },
  {
   "cell_type": "code",
   "execution_count": 12,
   "metadata": {},
   "outputs": [
    {
     "data": {
      "text/plain": [
       "{'step_size': Array(0.44459432, dtype=float32, weak_type=True),\n",
       " 'inverse_mass_matrix': Array([1., 1., 1., 1., 1., 1., 1., 1., 1., 1.], dtype=float32)}"
      ]
     },
     "execution_count": 12,
     "metadata": {},
     "output_type": "execute_result"
    }
   ],
   "source": [
    "parameters"
   ]
  },
  {
   "cell_type": "code",
   "execution_count": 13,
   "metadata": {},
   "outputs": [],
   "source": [
    "kernel = blackjax.nuts(logdensity_fn, **parameters).step"
   ]
  },
  {
   "cell_type": "code",
   "execution_count": 14,
   "metadata": {},
   "outputs": [],
   "source": [
    "def inference_loop(rng_key, kernel, initial_state, num_samples):\n",
    "    @jax.jit\n",
    "    def one_step(state, rng_key):\n",
    "        state, info = kernel(rng_key, state)\n",
    "        return state, (state, info)\n",
    "\n",
    "    keys = jax.random.split(rng_key, num_samples)\n",
    "    extra, (states, infos) = jax.lax.scan(one_step, initial_state, keys)\n",
    "\n",
    "    return states, (\n",
    "        infos.acceptance_rate,\n",
    "        infos.is_divergent,\n",
    "        infos.num_integration_steps,\n",
    "    )"
   ]
  },
  {
   "cell_type": "code",
   "execution_count": 15,
   "metadata": {},
   "outputs": [],
   "source": [
    "num_sample = 5\n",
    "\n",
    "states, infos = inference_loop(rng_key, kernel, last_state, num_sample)\n",
    "_ = states.position[\"mu\"].block_until_ready()"
   ]
  },
  {
   "cell_type": "code",
   "execution_count": 16,
   "metadata": {},
   "outputs": [
    {
     "data": {
      "text/plain": [
       "HMCState(position={'mu': Array([10.23008  ,  8.307863 ,  4.398651 ,  7.6486516,  7.439686 ],      dtype=float32), 'tau': Array([2.3501744 , 0.7994094 , 1.4532665 , 0.51785344, 0.28244084],      dtype=float32), 'theta_base': Array([[ 0.6804302 ,  0.38823453, -0.20930839, -0.6533625 ,  0.6064742 ,\n",
       "        -1.1144998 ,  0.87010014, -0.7791636 ],\n",
       "       [ 0.67929256, -1.7555128 ,  0.472714  ,  0.03503663, -2.7181075 ,\n",
       "         1.5632589 , -0.22113849,  1.4079455 ],\n",
       "       [ 0.15394486,  1.7087718 , -0.5606208 , -0.07571013,  1.8809739 ,\n",
       "        -1.874018  ,  1.0483693 , -0.730608  ],\n",
       "       [ 0.66666377, -1.1821587 , -0.5147217 ,  0.03661108, -1.9523745 ,\n",
       "         1.5535854 , -0.8931773 , -0.33664265],\n",
       "       [ 0.9475352 , -1.6104362 ,  0.3292531 ,  0.6192756 , -2.1482735 ,\n",
       "         1.375846  , -1.2776589 , -0.28885585]], dtype=float32)}, logdensity=Array([-45.55864 , -50.009613, -47.83721 , -46.952873, -48.623524],      dtype=float32), logdensity_grad={'mu': Array([-0.6178483 , -0.30110753, -0.10994671, -0.25034064, -0.23724958],      dtype=float32), 'tau': Array([-2.6524718,  0.4884943, -1.3455701,  0.7110363,  0.7501157],      dtype=float32), 'theta_base': Array([[-0.18477333, -1.0491138 , -0.242755  ,  0.9672906 , -2.883977  ,\n",
       "         1.3275522 , -1.0122219 ,  1.1009494 ],\n",
       "       [-0.49956277,  1.8355137 , -0.58009624, -0.06051033,  2.6285295 ,\n",
       "        -1.7615075 ,  0.44765377, -1.4040974 ],\n",
       "       [ 0.28218096, -1.8673301 ,  0.47707036,  0.1791078 , -2.5908446 ,\n",
       "         2.0372052 , -0.65841204,  0.8722026 ],\n",
       "       [-0.52319676,  1.2213584 ,  0.45056975, -0.04646105,  1.8410652 ,\n",
       "        -1.6819807 ,  1.0920781 ,  0.362111  ],\n",
       "       [-0.83374184,  1.6461995 , -0.38560486, -0.6330991 ,  2.0567331 ,\n",
       "        -1.4664395 ,  1.4402041 ,  0.30909288]], dtype=float32)})"
      ]
     },
     "execution_count": 16,
     "metadata": {},
     "output_type": "execute_result"
    }
   ],
   "source": [
    "states"
   ]
  },
  {
   "cell_type": "markdown",
   "metadata": {},
   "source": [
    "HMCState(position={'mu': Array([9.922787 , 2.6043172, 3.7035708, 8.089965 , 7.3719726], dtype=float32), 'tau': Array([-2.1415424, -0.4907572,  1.4969707,  0.7235381,  0.4811546],      dtype=float32), 'theta_base': Array([[ 0.011798  , -0.6990618 ,  0.5800221 ,  0.6235273 , -0.0350373 ,\n",
    "        -0.06943975, -2.394491  , -0.13232218],\n",
    "       [ 0.23016587, -1.844681  ,  0.89817107, -0.6893593 , -1.3917323 ,\n",
    "         1.8075554 ,  2.0827086 ,  0.20634526],\n",
    "       [ 0.95044273,  1.6913677 , -0.5630975 ,  0.8642062 ,  1.5816722 ,\n",
    "        -1.4738693 ,  1.5239587 , -0.8587075 ],\n",
    "       [-1.0939564 , -0.8527685 , -1.012984  , -0.47866136, -2.1197004 ,\n",
    "         1.2409846 ,  0.27299595,  2.669759  ],\n",
    "       [-0.3839416 , -1.2815466 , -0.20384768,  0.45797092, -2.280699  ,\n",
    "         1.0681396 , -0.48478994,  1.9311254 ]], dtype=float32)}, logdensity=Array([-49.38864 , -50.07078 , -47.313896, -50.438282, -48.44399 ],      dtype=float32), logdensity_grad={'mu': Array([-0.5289164 ,  0.2025292 , -0.11358353, -0.29387444, -0.22782859],      dtype=float32), 'tau': Array([ 0.972792  ,  1.0703826 , -0.6049909 ,  0.6082729 ,  0.72445697],      dtype=float32), 'theta_base': Array([[-2.3605300e-03,  6.9689953e-01, -5.8598340e-01, -6.2643600e-01,\n",
    "         1.9202059e-02,  6.0784940e-02,  2.4043100e+00,  1.3308096e-01],\n",
    "       [-1.6145459e-01,  1.8846242e+00, -9.1288722e-01,  7.1373290e-01,\n",
    "         1.3709313e+00, -1.8212701e+00, -1.9962667e+00, -1.8883181e-01],\n",
    "       [-5.5228788e-01, -1.8370658e+00,  4.9000901e-01, -8.8506830e-01,\n",
    "        -2.2309687e+00,  1.6172142e+00, -1.1894215e+00,  1.0260315e+00],\n",
    "       [ 1.2970624e+00,  8.8716203e-01,  9.4048995e-01,  4.7690460e-01,\n",
    "         1.9995674e+00, -1.4053854e+00, -8.0283418e-02, -2.6799037e+00],\n",
    "       [ 5.3674161e-01,  1.3252552e+00,  1.4038040e-01, -4.7285253e-01,\n",
    "         2.1871793e+00, -1.1764501e+00,  6.6943574e-01, -1.9236170e+00]],      dtype=float32)})"
   ]
  },
  {
   "cell_type": "code",
   "execution_count": 17,
   "metadata": {},
   "outputs": [
    {
     "name": "stdout",
     "output_type": "stream",
     "text": [
      "\\Average acceptance rate: 0.91\n",
      "There were 0.00% divergent transitions\n"
     ]
    }
   ],
   "source": [
    "acceptance_rate = np.mean(infos[0])\n",
    "num_divergent = np.mean(infos[1])\n",
    "\n",
    "print(f\"\\Average acceptance rate: {acceptance_rate:.2f}\")\n",
    "print(f\"There were {100*num_divergent:.2f}% divergent transitions\")"
   ]
  }
 ],
 "metadata": {
  "kernelspec": {
   "display_name": "original",
   "language": "python",
   "name": "python3"
  },
  "language_info": {
   "codemirror_mode": {
    "name": "ipython",
    "version": 3
   },
   "file_extension": ".py",
   "mimetype": "text/x-python",
   "name": "python",
   "nbconvert_exporter": "python",
   "pygments_lexer": "ipython3",
   "version": "3.11.3"
  },
  "orig_nbformat": 4
 },
 "nbformat": 4,
 "nbformat_minor": 2
}
